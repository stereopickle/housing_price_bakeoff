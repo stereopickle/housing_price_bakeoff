{
 "cells": [
  {
   "cell_type": "code",
   "execution_count": 1,
   "metadata": {},
   "outputs": [],
   "source": [
    "import pandas as pd\n",
    "import numpy as np\n",
    "from sklearn import metrics\n",
    "import time\n",
    "import os\n",
    "import glob\n",
    "import re"
   ]
  },
  {
   "cell_type": "code",
   "execution_count": 2,
   "metadata": {},
   "outputs": [],
   "source": [
    "actuals = pd.read_csv('data/kc_house_data_test_target.csv',index_col=0  )"
   ]
  },
  {
   "cell_type": "code",
   "execution_count": 3,
   "metadata": {},
   "outputs": [
    {
     "data": {
      "text/html": [
       "<div>\n",
       "<style scoped>\n",
       "    .dataframe tbody tr th:only-of-type {\n",
       "        vertical-align: middle;\n",
       "    }\n",
       "\n",
       "    .dataframe tbody tr th {\n",
       "        vertical-align: top;\n",
       "    }\n",
       "\n",
       "    .dataframe thead th {\n",
       "        text-align: right;\n",
       "    }\n",
       "</style>\n",
       "<table border=\"1\" class=\"dataframe\">\n",
       "  <thead>\n",
       "    <tr style=\"text-align: right;\">\n",
       "      <th></th>\n",
       "      <th>id</th>\n",
       "      <th>price</th>\n",
       "    </tr>\n",
       "  </thead>\n",
       "  <tbody>\n",
       "    <tr>\n",
       "      <th>0</th>\n",
       "      <td>1974300020</td>\n",
       "      <td>380000.0</td>\n",
       "    </tr>\n",
       "    <tr>\n",
       "      <th>1</th>\n",
       "      <td>1974300020</td>\n",
       "      <td>624900.0</td>\n",
       "    </tr>\n",
       "    <tr>\n",
       "      <th>2</th>\n",
       "      <td>3630020380</td>\n",
       "      <td>379770.0</td>\n",
       "    </tr>\n",
       "    <tr>\n",
       "      <th>3</th>\n",
       "      <td>1771000290</td>\n",
       "      <td>340000.0</td>\n",
       "    </tr>\n",
       "    <tr>\n",
       "      <th>4</th>\n",
       "      <td>5126310470</td>\n",
       "      <td>515500.0</td>\n",
       "    </tr>\n",
       "  </tbody>\n",
       "</table>\n",
       "</div>"
      ],
      "text/plain": [
       "           id     price\n",
       "0  1974300020  380000.0\n",
       "1  1974300020  624900.0\n",
       "2  3630020380  379770.0\n",
       "3  1771000290  340000.0\n",
       "4  5126310470  515500.0"
      ]
     },
     "execution_count": 3,
     "metadata": {},
     "output_type": "execute_result"
    }
   ],
   "source": [
    "actuals.head()"
   ]
  },
  {
   "cell_type": "code",
   "execution_count": 4,
   "metadata": {},
   "outputs": [
    {
     "data": {
      "text/plain": [
       "(4323, 2)"
      ]
     },
     "execution_count": 4,
     "metadata": {},
     "output_type": "execute_result"
    }
   ],
   "source": [
    "actuals.shape"
   ]
  },
  {
   "cell_type": "code",
   "execution_count": 5,
   "metadata": {},
   "outputs": [
    {
     "name": "stdout",
     "output_type": "stream",
     "text": [
      "['housing_preds_EBEW.csv']\n"
     ]
    }
   ],
   "source": [
    "# create a list of all file names\n",
    "# starting with testlabels_ from the file\n",
    "\n",
    "#path = '/Users/swilson5/Documents/DSC/ds-051120/nyc-mhtn-ds-051120-lectures/Mod_2/KC_house_data/answers'\n",
    "extension = 'csv'\n",
    "\n",
    "#os.chdir(path)\n",
    "files = glob.glob('*.{}'.format(extension))\n",
    "print(files)"
   ]
  },
  {
   "cell_type": "code",
   "execution_count": 6,
   "metadata": {},
   "outputs": [],
   "source": [
    "#create dictionary to store results\n",
    "results = {}"
   ]
  },
  {
   "cell_type": "code",
   "execution_count": 7,
   "metadata": {},
   "outputs": [
    {
     "name": "stdout",
     "output_type": "stream",
     "text": [
      "EBEW\n"
     ]
    }
   ],
   "source": [
    "for file in files:\n",
    "    name = file.split(\"_\")[-1].split(\".\")[0]\n",
    "    print(name)\n",
    "    guesses = pd.read_csv(file, header=None, index_col=0 )\n",
    " \n",
    "\n",
    "    # guesses.sort_index(inplace=True)\n",
    "\n",
    "    if guesses.shape[0] != 4323:\n",
    "        print(name, \"not the correct size\", guesses.shape[0]  )\n",
    "        continue\n",
    "    mae = metrics.mean_absolute_error(actuals['price'],guesses)\n",
    "    mse = metrics.mean_squared_error(actuals['price'],guesses)\n",
    "    rmse = np.sqrt(mse)\n",
    "    results[name]= [mae, rmse]"
   ]
  },
  {
   "cell_type": "code",
   "execution_count": 8,
   "metadata": {},
   "outputs": [
    {
     "data": {
      "text/plain": [
       "[('EBEW', [76192.4662648452, 135450.70923049323])]"
      ]
     },
     "execution_count": 8,
     "metadata": {},
     "output_type": "execute_result"
    }
   ],
   "source": [
    "sorted_results = sorted(results.items(), key=lambda x: x[1][0], reverse=True)\n",
    "sorted_results"
   ]
  },
  {
   "cell_type": "code",
   "execution_count": 9,
   "metadata": {},
   "outputs": [
    {
     "name": "stdout",
     "output_type": "stream",
     "text": [
      "the RMSE results in ascending order:\n",
      "135450.70923049323\n",
      "EBEW achieved an RMSE of 135450.70923049323 \n",
      "\n"
     ]
    }
   ],
   "source": [
    "print('the RMSE results in ascending order:')\n",
    "\n",
    "for k,v in sorted_results:\n",
    "    print(v[1])\n",
    "    print('{} achieved an RMSE of {} \\n'.format(\n",
    "          k.upper(), v[1]))\n",
    "\n",
    "    #time.sleep(2)\n"
   ]
  },
  {
   "cell_type": "code",
   "execution_count": 10,
   "metadata": {},
   "outputs": [
    {
     "name": "stdout",
     "output_type": "stream",
     "text": [
      "the MAE results in ascending order\n",
      "135450.70923049323\n",
      "EBEW achieved an MAE of 76192.4662648452 \n",
      "\n"
     ]
    }
   ],
   "source": [
    "print('the MAE results in ascending order')\n",
    "\n",
    "for k,v in sorted_results:\n",
    "    print(v[1])\n",
    "    print('{} achieved an MAE of {} \\n'.format(\n",
    "          k.upper(), v[0]))\n",
    "\n",
    "    #time.sleep(.1)\n"
   ]
  },
  {
   "cell_type": "code",
   "execution_count": null,
   "metadata": {},
   "outputs": [],
   "source": []
  }
 ],
 "metadata": {
  "kernelspec": {
   "display_name": "Python 3",
   "language": "python",
   "name": "python3"
  },
  "language_info": {
   "codemirror_mode": {
    "name": "ipython",
    "version": 3
   },
   "file_extension": ".py",
   "mimetype": "text/x-python",
   "name": "python",
   "nbconvert_exporter": "python",
   "pygments_lexer": "ipython3",
   "version": "3.7.3"
  }
 },
 "nbformat": 4,
 "nbformat_minor": 2
}
