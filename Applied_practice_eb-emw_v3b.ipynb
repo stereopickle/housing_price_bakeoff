{
 "cells": [
  {
   "cell_type": "markdown",
   "metadata": {},
   "source": [
    "## Eunjoo and Eryk's Housing Price Bakery\n",
    "\n",
    "Baking King County's sweetest housing price desserts since 2014."
   ]
  },
  {
   "cell_type": "code",
   "execution_count": 1,
   "metadata": {},
   "outputs": [],
   "source": [
    "import warnings\n",
    "warnings.filterwarnings(\"ignore\")\n",
    "\n",
    "import pandas as pd\n",
    "import numpy as np\n",
    "import matplotlib.pyplot as plt\n",
    "import seaborn as sns\n",
    "%matplotlib inline\n",
    "\n",
    "import scipy.stats as st\n",
    "import math\n",
    "\n",
    "import pickle\n",
    "\n",
    "import statsmodels.api as sm\n",
    "from statsmodels.formula.api import ols\n",
    "from statsmodels.stats.stattools import jarque_bera\n",
    "\n",
    "from sklearn.linear_model import LinearRegression\n",
    "from sklearn.model_selection import cross_val_score\n",
    "from sklearn.model_selection import KFold\n",
    "from sklearn.cluster import KMeans\n",
    "from sklearn.model_selection import train_test_split\n",
    "from sklearn.metrics import mean_squared_error"
   ]
  },
  {
   "cell_type": "markdown",
   "metadata": {},
   "source": [
    "## Step 1: Read in Data"
   ]
  },
  {
   "cell_type": "code",
   "execution_count": 2,
   "metadata": {},
   "outputs": [],
   "source": [
    "house_train = pd.read_csv('data/kc_house_data_train.csv', index_col = 0)\n",
    "#house_train.head()"
   ]
  },
  {
   "cell_type": "code",
   "execution_count": 3,
   "metadata": {},
   "outputs": [],
   "source": [
    "#house_train.info()"
   ]
  },
  {
   "cell_type": "markdown",
   "metadata": {},
   "source": [
    "## Step 2: Exploratory Data Analysis \n",
    "    \n",
    "Become familiar with the data.  Look to see if there are any extreme values.  \n",
    "\n",
    "Additionally create data visualizations to determine if there are any relationships between your features and your target variables.  "
   ]
  },
  {
   "cell_type": "code",
   "execution_count": 4,
   "metadata": {},
   "outputs": [],
   "source": [
    "##  take logs\n",
    "def take_logs(df):\n",
    "    df['ln_sqft_living'] = np.log(df['sqft_living'])\n",
    "    df['ln_sqft_living15'] = np.log(df['sqft_living15'])\n",
    "    df['ln_sqft_lot'] = np.log(df['sqft_lot'])\n",
    "    df['ln_sqft_lot15'] = np.log(df['sqft_lot15'])\n",
    "    df['ln_sqft_above'] = np.log(df['sqft_above'])\n",
    "    df['ln_sqft_basement'] = np.where(df['sqft_basement']==0,0,np.log(df['sqft_basement']))\n",
    "    return df\n",
    "\n",
    "house_train = take_logs(house_train)\n",
    "house_train['ln_price'] = np.log(house_train['price'])"
   ]
  },
  {
   "cell_type": "code",
   "execution_count": 5,
   "metadata": {},
   "outputs": [],
   "source": [
    "# for each columns, plot scatter plot\n",
    "def mass_scatter(df, y = 'ln_price'):\n",
    "    a = len(df.columns)\n",
    "    ncols = math.ceil(a**.5)\n",
    "    nrows = math.ceil(a/ncols)\n",
    "    fig, axes = plt.subplots(nrows = nrows, ncols = ncols, figsize = (12, 15))\n",
    "\n",
    "    axes = axes.ravel()\n",
    "\n",
    "    for i in range(len(df.columns)):\n",
    "        axes[i].scatter(df.iloc[:, i], df[y], alpha = 0.2)\n",
    "        axes[i].set_title(df.columns[i])\n",
    "        axes[i].get_yaxis().set_ticks([])"
   ]
  },
  {
   "cell_type": "code",
   "execution_count": 6,
   "metadata": {},
   "outputs": [],
   "source": [
    "cols_int = ['bedrooms','bathrooms','floors',\n",
    "            'waterfront','view',\n",
    "            'condition','grade',\n",
    "            'yr_built',## 'yr_renovated',\n",
    "            'lat', 'long',  \n",
    "            'ln_sqft_living',## 'ln_sqft_living15', \n",
    "            'ln_sqft_lot',## 'ln_sqft_lot15',\n",
    "            'ln_sqft_above','ln_sqft_basement']\n",
    "\n",
    "#mass_scatter(house_train[cols_int + ['ln_price']])"
   ]
  },
  {
   "cell_type": "markdown",
   "metadata": {},
   "source": [
    "### Observation\n",
    "#### Outliers\n",
    "1. There is one outlier that has extremely many bedroom. \n",
    "2. Some price points are very high and weakening relationships, we should take a look at them.\n",
    "3. There's a very large lot in the data set. We should check that's not an outlier.\n",
    "\n",
    "#### Missing Info\n",
    "1. Location is a valuable information. We have zipcode and long/lat to approximate the location info. \n",
    "- Add zipcode in as categorical and filter out to ones that matter. \n",
    "- Make an interaction of long/lat as a feature\n",
    "2. Year renovated is perhaps important feature but is not applicable for most datapoints. We should create a new variable 'year_old' that counts the age of the house. Check interaction of this with Condition variable.\n",
    "3. Basement - it seems like many are missing basement value. So I'll create a binary column for whether basement exist or not and add in as a feature."
   ]
  },
  {
   "cell_type": "markdown",
   "metadata": {},
   "source": [
    "### Outliers\n",
    "#### 1. too many bedroom\n",
    "There's a house with 30+ bedrooms. Let's take a look at that."
   ]
  },
  {
   "cell_type": "code",
   "execution_count": 7,
   "metadata": {},
   "outputs": [
    {
     "data": {
      "text/html": [
       "<div>\n",
       "<style scoped>\n",
       "    .dataframe tbody tr th:only-of-type {\n",
       "        vertical-align: middle;\n",
       "    }\n",
       "\n",
       "    .dataframe tbody tr th {\n",
       "        vertical-align: top;\n",
       "    }\n",
       "\n",
       "    .dataframe thead th {\n",
       "        text-align: right;\n",
       "    }\n",
       "</style>\n",
       "<table border=\"1\" class=\"dataframe\">\n",
       "  <thead>\n",
       "    <tr style=\"text-align: right;\">\n",
       "      <th></th>\n",
       "      <th>id</th>\n",
       "      <th>date</th>\n",
       "      <th>price</th>\n",
       "      <th>bedrooms</th>\n",
       "      <th>bathrooms</th>\n",
       "      <th>sqft_living</th>\n",
       "      <th>sqft_lot</th>\n",
       "      <th>floors</th>\n",
       "      <th>waterfront</th>\n",
       "      <th>view</th>\n",
       "      <th>...</th>\n",
       "      <th>long</th>\n",
       "      <th>sqft_living15</th>\n",
       "      <th>sqft_lot15</th>\n",
       "      <th>ln_sqft_living</th>\n",
       "      <th>ln_sqft_living15</th>\n",
       "      <th>ln_sqft_lot</th>\n",
       "      <th>ln_sqft_lot15</th>\n",
       "      <th>ln_sqft_above</th>\n",
       "      <th>ln_sqft_basement</th>\n",
       "      <th>ln_price</th>\n",
       "    </tr>\n",
       "  </thead>\n",
       "  <tbody>\n",
       "    <tr>\n",
       "      <th>8597</th>\n",
       "      <td>2402100895</td>\n",
       "      <td>20140625T000000</td>\n",
       "      <td>640000.0</td>\n",
       "      <td>33</td>\n",
       "      <td>1.75</td>\n",
       "      <td>1620</td>\n",
       "      <td>6000</td>\n",
       "      <td>1.0</td>\n",
       "      <td>0</td>\n",
       "      <td>0</td>\n",
       "      <td>...</td>\n",
       "      <td>-122.331</td>\n",
       "      <td>1330</td>\n",
       "      <td>4700</td>\n",
       "      <td>7.390181</td>\n",
       "      <td>7.192934</td>\n",
       "      <td>8.699515</td>\n",
       "      <td>8.455318</td>\n",
       "      <td>6.946976</td>\n",
       "      <td>6.363028</td>\n",
       "      <td>13.369223</td>\n",
       "    </tr>\n",
       "  </tbody>\n",
       "</table>\n",
       "<p>1 rows × 28 columns</p>\n",
       "</div>"
      ],
      "text/plain": [
       "              id             date     price  bedrooms  bathrooms  sqft_living  \\\n",
       "8597  2402100895  20140625T000000  640000.0        33       1.75         1620   \n",
       "\n",
       "      sqft_lot  floors  waterfront  view    ...         long  sqft_living15  \\\n",
       "8597      6000     1.0           0     0    ...     -122.331           1330   \n",
       "\n",
       "      sqft_lot15  ln_sqft_living  ln_sqft_living15  ln_sqft_lot  \\\n",
       "8597        4700        7.390181          7.192934     8.699515   \n",
       "\n",
       "      ln_sqft_lot15  ln_sqft_above  ln_sqft_basement   ln_price  \n",
       "8597       8.455318       6.946976          6.363028  13.369223  \n",
       "\n",
       "[1 rows x 28 columns]"
      ]
     },
     "execution_count": 7,
     "metadata": {},
     "output_type": "execute_result"
    }
   ],
   "source": [
    "house_train[house_train.bedrooms > 20]"
   ]
  },
  {
   "cell_type": "markdown",
   "metadata": {},
   "source": [
    "It's likely that 33 bedrooms is an input error of 3, since it's a small place with less than 2 bathrooms. We will change that value to more appropriate number."
   ]
  },
  {
   "cell_type": "code",
   "execution_count": 8,
   "metadata": {},
   "outputs": [],
   "source": [
    "round((house_train.bedrooms/house_train.sqft_living).median()*1620)\n",
    "\n",
    "# median # of bedroom per sqft.living multiplied by sqft.living \n",
    "house_train.at[8597, 'bedrooms'] = 3"
   ]
  },
  {
   "cell_type": "markdown",
   "metadata": {},
   "source": [
    "#### 2. Price outliers\n",
    "Some houses seem to be extremely expensive. Let's take a look."
   ]
  },
  {
   "cell_type": "markdown",
   "metadata": {},
   "source": [
    "#### Price distribution"
   ]
  },
  {
   "cell_type": "code",
   "execution_count": 9,
   "metadata": {},
   "outputs": [],
   "source": [
    "#house_train.boxplot(['price']) \n",
    "\n",
    "# some extreme values.\n",
    "#   EB:  \"Maybe we should remove them.\"\n",
    "#   EMW: \"No way, Jose!  Take logs instead.\""
   ]
  },
  {
   "cell_type": "code",
   "execution_count": 10,
   "metadata": {},
   "outputs": [],
   "source": [
    "#house_train.sort_values(by = 'price', ascending = False)"
   ]
  },
  {
   "cell_type": "markdown",
   "metadata": {},
   "source": [
    "#### Log Price distribution  "
   ]
  },
  {
   "cell_type": "code",
   "execution_count": 11,
   "metadata": {},
   "outputs": [
    {
     "data": {
      "image/png": "[encoded data removed]",
      "text/plain": [
       "<Figure size 432x288 with 1 Axes>"
      ]
     },
     "metadata": {
      "needs_background": "light"
     },
     "output_type": "display_data"
    }
   ],
   "source": [
    "sns.distplot(np.log(house_train.price))\n",
    "plt.xticks(rotation=45)\n",
    "plt.show()"
   ]
  },
  {
   "cell_type": "code",
   "execution_count": 12,
   "metadata": {},
   "outputs": [],
   "source": [
    "# removing outliers with log price value higher than 4 log std.\n",
    "#log_filt = np.log(house_train.price).mean() + np.log(house_train.price).std()*4\n",
    "#print(len(house_train[np.log(house_train.price)>= log_filt]))\n",
    "\n",
    "# not removing it, but here's how to do it:\n",
    "# house_train = house_train[np.log(house_train.price) < log_filt]"
   ]
  },
  {
   "cell_type": "code",
   "execution_count": null,
   "metadata": {},
   "outputs": [],
   "source": []
  },
  {
   "cell_type": "markdown",
   "metadata": {},
   "source": [
    "### 3. Large lot"
   ]
  },
  {
   "cell_type": "code",
   "execution_count": 13,
   "metadata": {},
   "outputs": [],
   "source": [
    "#house_train.sort_values(by = 'sqft_lot', ascending = False)\n",
    "# it seems like it's a large lot and a very small house. \n",
    "# I have no evidence to think this is an error. \n",
    "# We will keep it for now."
   ]
  },
  {
   "cell_type": "markdown",
   "metadata": {},
   "source": [
    "### Features (New columns)\n",
    "Now I'll create new columns I need. From here on, I will need to be able to replicate, so I'll create them as a function."
   ]
  },
  {
   "cell_type": "markdown",
   "metadata": {},
   "source": [
    "#### Date\n",
    "I'm not entirely sure what 'date' columns is supposed to be. But we can separate out month and year and see if they have any effect on our model."
   ]
  },
  {
   "cell_type": "code",
   "execution_count": 14,
   "metadata": {},
   "outputs": [],
   "source": [
    "def make_dates(df):\n",
    "    df['month_sold'] = df.date.apply(lambda x: int(x[4:6]))\n",
    "    df['yr_sold'] = df.date.apply(lambda x: int(x[0:4]))\n",
    "    df.date = df.date.apply(lambda x: int(x[0:8]))\n",
    "    df.date = pd.to_datetime(df.date, format = \"%Y%m%d\")\n",
    "    return df\n",
    "\n",
    "house_train = make_dates(house_train)"
   ]
  },
  {
   "cell_type": "code",
   "execution_count": 15,
   "metadata": {},
   "outputs": [],
   "source": [
    "# change date\n",
    "# house_train.date = pd.to_datetime(house_train.date, format = \"%Y%m%d\")"
   ]
  },
  {
   "cell_type": "markdown",
   "metadata": {},
   "source": [
    "#### Year_old\n",
    "Either year since renovated or since built"
   ]
  },
  {
   "cell_type": "code",
   "execution_count": 16,
   "metadata": {},
   "outputs": [],
   "source": [
    "def make_yearold (df):\n",
    "    df['year_old'] = np.where(df.yr_renovated == 0, df.yr_sold - df.yr_built, df.yr_sold - df.yr_renovated)\n",
    "    return df\n",
    "house_train = make_yearold(house_train)"
   ]
  },
  {
   "cell_type": "markdown",
   "metadata": {},
   "source": [
    "#### Basement\n",
    "Add a column that shows whether there is a basement or not. "
   ]
  },
  {
   "cell_type": "code",
   "execution_count": 17,
   "metadata": {},
   "outputs": [],
   "source": [
    "def make_basement(df):\n",
    "    df['basement'] = np.where(df.sqft_basement > 0, 1, 0)\n",
    "    return df\n",
    "\n",
    "house_train = make_basement(house_train)"
   ]
  },
  {
   "cell_type": "markdown",
   "metadata": {},
   "source": [
    "## Status Check"
   ]
  },
  {
   "cell_type": "code",
   "execution_count": 18,
   "metadata": {},
   "outputs": [],
   "source": [
    "##  columns of interest\n",
    "cols_int = ['bedrooms','bathrooms','floors',\n",
    "            'waterfront','view',\n",
    "            'condition','grade',\n",
    "            'yr_built',## 'yr_renovated',\n",
    "            'lat', 'long',  \n",
    "            'ln_sqft_living',## 'ln_sqft_living15', \n",
    "            'ln_sqft_lot',## 'ln_sqft_lot15',\n",
    "            'ln_sqft_above','ln_sqft_basement',\n",
    "            'month_sold','yr_sold','year_old','basement']\n",
    "\n",
    "#mass_scatter(house_train[cols_int + ['ln_price']])"
   ]
  },
  {
   "cell_type": "markdown",
   "metadata": {},
   "source": [
    "## Baseline Model"
   ]
  },
  {
   "cell_type": "markdown",
   "metadata": {},
   "source": [
    "We will check for assumptions and create a baseline model here. And then we will investigate interactions and other feature selection to see if any improves our model."
   ]
  },
  {
   "cell_type": "markdown",
   "metadata": {},
   "source": [
    "### Scale, transform data, and add dummy columns"
   ]
  },
  {
   "cell_type": "code",
   "execution_count": 19,
   "metadata": {},
   "outputs": [],
   "source": [
    "# sqft_lot seemed to have exponential decay relationship to price. So transferring to log.\n",
    "# Can't say with confidence that this is linear relationship...???\n",
    "#plt.scatter(np.log(house_train.ln_sqft_lot), house_train.ln_price, alpha = 0.2);"
   ]
  },
  {
   "cell_type": "code",
   "execution_count": 20,
   "metadata": {},
   "outputs": [],
   "source": [
    "def dummies(x, prefix):\n",
    "    \"\"\"\n",
    "    Helper function to make dummies\n",
    "    Input: series or array, prefix string\n",
    "    Output: dummy dataframe\n",
    "    \"\"\"\n",
    "    dummy = pd.get_dummies(x, prefix = prefix, drop_first = True)\n",
    "    return dummy"
   ]
  },
  {
   "cell_type": "code",
   "execution_count": 21,
   "metadata": {},
   "outputs": [],
   "source": [
    "def standardize(x):\n",
    "    \"\"\"\n",
    "    Helper function to standardize scalar values\n",
    "    Input: series or numpy array \n",
    "    Output: original input as standardized version ((x-mean(x))/std(x))\n",
    "    \"\"\"\n",
    "    return (x - x.mean())/x.std()"
   ]
  },
  {
   "cell_type": "code",
   "execution_count": 22,
   "metadata": {},
   "outputs": [],
   "source": [
    "def remove_feat(df, exc_list):\n",
    "    df.drop(exc_list, axis = 1, inplace = True)\n",
    "    return df"
   ]
  },
  {
   "cell_type": "code",
   "execution_count": 23,
   "metadata": {},
   "outputs": [],
   "source": [
    "##  turn categorical variables into dummy variables\n",
    "zp_df = dummies(house_train['zipcode'],'zip')\n",
    "mo_df = dummies(house_train['month_sold'],'mo_sold')\n",
    "yr_df = dummies(house_train['yr_sold'],'yr_sold')\n",
    "\n",
    "# ##  add them to dataframe\n",
    "house_train = house_train.join(zp_df)\n",
    "house_train = house_train.join(mo_df)\n",
    "house_train = house_train.join(yr_df)\n",
    "\n",
    "# ##  get lists of variable names\n",
    "zp_dummies = list(zp_df.columns)\n",
    "mo_dummies = list(mo_df.columns)\n",
    "yr_dummies = list(yr_df.columns)"
   ]
  },
  {
   "cell_type": "markdown",
   "metadata": {},
   "source": [
    "### Check for multicollinearity"
   ]
  },
  {
   "cell_type": "code",
   "execution_count": 24,
   "metadata": {},
   "outputs": [],
   "source": [
    "def corr_high(df):\n",
    "    corr_df = abs(df.corr()).stack().reset_index()\n",
    "    corr_df.columns = ['var1', 'var2', 'corr']\n",
    "    return corr_df[(corr_df['corr'] > 0.6) & (corr_df['corr'] < 1)].sort_values(by = 'corr', ascending = False)"
   ]
  },
  {
   "cell_type": "code",
   "execution_count": 25,
   "metadata": {},
   "outputs": [
    {
     "data": {
      "text/html": [
       "<div>\n",
       "<style scoped>\n",
       "    .dataframe tbody tr th:only-of-type {\n",
       "        vertical-align: middle;\n",
       "    }\n",
       "\n",
       "    .dataframe tbody tr th {\n",
       "        vertical-align: top;\n",
       "    }\n",
       "\n",
       "    .dataframe thead th {\n",
       "        text-align: right;\n",
       "    }\n",
       "</style>\n",
       "<table border=\"1\" class=\"dataframe\">\n",
       "  <thead>\n",
       "    <tr style=\"text-align: right;\">\n",
       "      <th></th>\n",
       "      <th>var1</th>\n",
       "      <th>var2</th>\n",
       "      <th>corr</th>\n",
       "    </tr>\n",
       "  </thead>\n",
       "  <tbody>\n",
       "    <tr>\n",
       "      <th>152</th>\n",
       "      <td>ln_sqft_living</td>\n",
       "      <td>ln_sqft_above</td>\n",
       "      <td>0.864497</td>\n",
       "    </tr>\n",
       "    <tr>\n",
       "      <th>178</th>\n",
       "      <td>ln_sqft_above</td>\n",
       "      <td>ln_sqft_living</td>\n",
       "      <td>0.864497</td>\n",
       "    </tr>\n",
       "    <tr>\n",
       "      <th>24</th>\n",
       "      <td>bathrooms</td>\n",
       "      <td>ln_sqft_living</td>\n",
       "      <td>0.761053</td>\n",
       "    </tr>\n",
       "    <tr>\n",
       "      <th>141</th>\n",
       "      <td>ln_sqft_living</td>\n",
       "      <td>bathrooms</td>\n",
       "      <td>0.761053</td>\n",
       "    </tr>\n",
       "    <tr>\n",
       "      <th>96</th>\n",
       "      <td>grade</td>\n",
       "      <td>ln_sqft_above</td>\n",
       "      <td>0.745496</td>\n",
       "    </tr>\n",
       "    <tr>\n",
       "      <th>174</th>\n",
       "      <td>ln_sqft_above</td>\n",
       "      <td>grade</td>\n",
       "      <td>0.745496</td>\n",
       "    </tr>\n",
       "    <tr>\n",
       "      <th>94</th>\n",
       "      <td>grade</td>\n",
       "      <td>ln_sqft_living</td>\n",
       "      <td>0.744542</td>\n",
       "    </tr>\n",
       "    <tr>\n",
       "      <th>146</th>\n",
       "      <td>ln_sqft_living</td>\n",
       "      <td>grade</td>\n",
       "      <td>0.744542</td>\n",
       "    </tr>\n",
       "    <tr>\n",
       "      <th>26</th>\n",
       "      <td>bathrooms</td>\n",
       "      <td>ln_sqft_above</td>\n",
       "      <td>0.694596</td>\n",
       "    </tr>\n",
       "    <tr>\n",
       "      <th>169</th>\n",
       "      <td>ln_sqft_above</td>\n",
       "      <td>bathrooms</td>\n",
       "      <td>0.694596</td>\n",
       "    </tr>\n",
       "    <tr>\n",
       "      <th>20</th>\n",
       "      <td>bathrooms</td>\n",
       "      <td>grade</td>\n",
       "      <td>0.664191</td>\n",
       "    </tr>\n",
       "    <tr>\n",
       "      <th>85</th>\n",
       "      <td>grade</td>\n",
       "      <td>bathrooms</td>\n",
       "      <td>0.664191</td>\n",
       "    </tr>\n",
       "    <tr>\n",
       "      <th>10</th>\n",
       "      <td>bedrooms</td>\n",
       "      <td>ln_sqft_living</td>\n",
       "      <td>0.633862</td>\n",
       "    </tr>\n",
       "    <tr>\n",
       "      <th>140</th>\n",
       "      <td>ln_sqft_living</td>\n",
       "      <td>bedrooms</td>\n",
       "      <td>0.633862</td>\n",
       "    </tr>\n",
       "  </tbody>\n",
       "</table>\n",
       "</div>"
      ],
      "text/plain": [
       "               var1            var2      corr\n",
       "152  ln_sqft_living   ln_sqft_above  0.864497\n",
       "178   ln_sqft_above  ln_sqft_living  0.864497\n",
       "24        bathrooms  ln_sqft_living  0.761053\n",
       "141  ln_sqft_living       bathrooms  0.761053\n",
       "96            grade   ln_sqft_above  0.745496\n",
       "174   ln_sqft_above           grade  0.745496\n",
       "94            grade  ln_sqft_living  0.744542\n",
       "146  ln_sqft_living           grade  0.744542\n",
       "26        bathrooms   ln_sqft_above  0.694596\n",
       "169   ln_sqft_above       bathrooms  0.694596\n",
       "20        bathrooms           grade  0.664191\n",
       "85            grade       bathrooms  0.664191\n",
       "10         bedrooms  ln_sqft_living  0.633862\n",
       "140  ln_sqft_living        bedrooms  0.633862"
      ]
     },
     "execution_count": 25,
     "metadata": {},
     "output_type": "execute_result"
    }
   ],
   "source": [
    "cols_int = ['bedrooms','bathrooms','floors',\n",
    "            'waterfront','view',\n",
    "            'condition','grade',\n",
    "            'yr_built',\n",
    "            'lat', 'long',  \n",
    "            'ln_sqft_living',\n",
    "            'ln_sqft_lot',\n",
    "            'ln_sqft_above','ln_sqft_basement']\n",
    "\n",
    "corr_high(house_train[cols_int])"
   ]
  },
  {
   "cell_type": "markdown",
   "metadata": {},
   "source": [
    "### Remove features"
   ]
  },
  {
   "cell_type": "code",
   "execution_count": 26,
   "metadata": {},
   "outputs": [],
   "source": [
    "##  Why remove anything?  Just ignore it!  \n",
    "#exc_list = ['sqft_living', 'sqft_lot15', 'sqft_living15', 'con_4']\n",
    "#X = remove_feat(X, exc_list)"
   ]
  },
  {
   "cell_type": "markdown",
   "metadata": {},
   "source": [
    "### Run baseline model\n"
   ]
  },
  {
   "cell_type": "code",
   "execution_count": 27,
   "metadata": {},
   "outputs": [
    {
     "data": {
      "text/html": [
       "<table class=\"simpletable\">\n",
       "<caption>OLS Regression Results</caption>\n",
       "<tr>\n",
       "  <th>Dep. Variable:</th>        <td>ln_price</td>     <th>  R-squared:         </th> <td>   0.764</td>\n",
       "</tr>\n",
       "<tr>\n",
       "  <th>Model:</th>                   <td>OLS</td>       <th>  Adj. R-squared:    </th> <td>   0.764</td>\n",
       "</tr>\n",
       "<tr>\n",
       "  <th>Method:</th>             <td>Least Squares</td>  <th>  F-statistic:       </th> <td>   4310.</td>\n",
       "</tr>\n",
       "<tr>\n",
       "  <th>Date:</th>             <td>Sun, 26 Jul 2020</td> <th>  Prob (F-statistic):</th>  <td>  0.00</td> \n",
       "</tr>\n",
       "<tr>\n",
       "  <th>Time:</th>                 <td>18:15:58</td>     <th>  Log-Likelihood:    </th> <td> -958.00</td>\n",
       "</tr>\n",
       "<tr>\n",
       "  <th>No. Observations:</th>      <td> 17290</td>      <th>  AIC:               </th> <td>   1944.</td>\n",
       "</tr>\n",
       "<tr>\n",
       "  <th>Df Residuals:</th>          <td> 17276</td>      <th>  BIC:               </th> <td>   2053.</td>\n",
       "</tr>\n",
       "<tr>\n",
       "  <th>Df Model:</th>              <td>    13</td>      <th>                     </th>     <td> </td>   \n",
       "</tr>\n",
       "<tr>\n",
       "  <th>Covariance Type:</th>      <td>nonrobust</td>    <th>                     </th>     <td> </td>   \n",
       "</tr>\n",
       "</table>\n",
       "<table class=\"simpletable\">\n",
       "<tr>\n",
       "         <td></td>           <th>coef</th>     <th>std err</th>      <th>t</th>      <th>P>|t|</th>  <th>[0.025</th>    <th>0.975]</th>  \n",
       "</tr>\n",
       "<tr>\n",
       "  <th>Intercept</th>      <td>  -41.7957</td> <td>    2.305</td> <td>  -18.129</td> <td> 0.000</td> <td>  -46.315</td> <td>  -37.277</td>\n",
       "</tr>\n",
       "<tr>\n",
       "  <th>bedrooms</th>       <td>   -0.0281</td> <td>    0.003</td> <td>   -9.723</td> <td> 0.000</td> <td>   -0.034</td> <td>   -0.022</td>\n",
       "</tr>\n",
       "<tr>\n",
       "  <th>bathrooms</th>      <td>    0.0712</td> <td>    0.005</td> <td>   15.698</td> <td> 0.000</td> <td>    0.062</td> <td>    0.080</td>\n",
       "</tr>\n",
       "<tr>\n",
       "  <th>floors</th>         <td>    0.0506</td> <td>    0.005</td> <td>    9.555</td> <td> 0.000</td> <td>    0.040</td> <td>    0.061</td>\n",
       "</tr>\n",
       "<tr>\n",
       "  <th>basement</th>       <td>    0.0052</td> <td>    0.005</td> <td>    1.040</td> <td> 0.298</td> <td>   -0.005</td> <td>    0.015</td>\n",
       "</tr>\n",
       "<tr>\n",
       "  <th>waterfront</th>     <td>    0.3933</td> <td>    0.024</td> <td>   16.370</td> <td> 0.000</td> <td>    0.346</td> <td>    0.440</td>\n",
       "</tr>\n",
       "<tr>\n",
       "  <th>view</th>           <td>    0.0707</td> <td>    0.003</td> <td>   24.114</td> <td> 0.000</td> <td>    0.065</td> <td>    0.076</td>\n",
       "</tr>\n",
       "<tr>\n",
       "  <th>condition</th>      <td>    0.0547</td> <td>    0.003</td> <td>   16.806</td> <td> 0.000</td> <td>    0.048</td> <td>    0.061</td>\n",
       "</tr>\n",
       "<tr>\n",
       "  <th>grade</th>          <td>    0.1853</td> <td>    0.003</td> <td>   65.781</td> <td> 0.000</td> <td>    0.180</td> <td>    0.191</td>\n",
       "</tr>\n",
       "<tr>\n",
       "  <th>yr_built</th>       <td>   -0.0038</td> <td> 9.61e-05</td> <td>  -39.270</td> <td> 0.000</td> <td>   -0.004</td> <td>   -0.004</td>\n",
       "</tr>\n",
       "<tr>\n",
       "  <th>lat</th>            <td>    1.3414</td> <td>    0.015</td> <td>   89.711</td> <td> 0.000</td> <td>    1.312</td> <td>    1.371</td>\n",
       "</tr>\n",
       "<tr>\n",
       "  <th>long</th>           <td>    0.0519</td> <td>    0.017</td> <td>    3.037</td> <td> 0.002</td> <td>    0.018</td> <td>    0.085</td>\n",
       "</tr>\n",
       "<tr>\n",
       "  <th>ln_sqft_living</th> <td>    0.4123</td> <td>    0.010</td> <td>   39.852</td> <td> 0.000</td> <td>    0.392</td> <td>    0.433</td>\n",
       "</tr>\n",
       "<tr>\n",
       "  <th>ln_sqft_lot</th>    <td>   -0.0049</td> <td>    0.003</td> <td>   -1.736</td> <td> 0.083</td> <td>   -0.010</td> <td>    0.001</td>\n",
       "</tr>\n",
       "</table>\n",
       "<table class=\"simpletable\">\n",
       "<tr>\n",
       "  <th>Omnibus:</th>       <td>445.117</td> <th>  Durbin-Watson:     </th> <td>   2.001</td> \n",
       "</tr>\n",
       "<tr>\n",
       "  <th>Prob(Omnibus):</th> <td> 0.000</td>  <th>  Jarque-Bera (JB):  </th> <td> 903.190</td> \n",
       "</tr>\n",
       "<tr>\n",
       "  <th>Skew:</th>          <td> 0.164</td>  <th>  Prob(JB):          </th> <td>7.50e-197</td>\n",
       "</tr>\n",
       "<tr>\n",
       "  <th>Kurtosis:</th>      <td> 4.071</td>  <th>  Cond. No.          </th> <td>2.34e+06</td> \n",
       "</tr>\n",
       "</table>"
      ],
      "text/plain": [
       "<class 'statsmodels.iolib.summary.Summary'>\n",
       "\"\"\"\n",
       "                            OLS Regression Results                            \n",
       "==============================================================================\n",
       "Dep. Variable:               ln_price   R-squared:                       0.764\n",
       "Model:                            OLS   Adj. R-squared:                  0.764\n",
       "Method:                 Least Squares   F-statistic:                     4310.\n",
       "Date:                Sun, 26 Jul 2020   Prob (F-statistic):               0.00\n",
       "Time:                        18:15:58   Log-Likelihood:                -958.00\n",
       "No. Observations:               17290   AIC:                             1944.\n",
       "Df Residuals:                   17276   BIC:                             2053.\n",
       "Df Model:                          13                                         \n",
       "Covariance Type:            nonrobust                                         \n",
       "==================================================================================\n",
       "                     coef    std err          t      P>|t|      [0.025      0.975]\n",
       "----------------------------------------------------------------------------------\n",
       "Intercept        -41.7957      2.305    -18.129      0.000     -46.315     -37.277\n",
       "bedrooms          -0.0281      0.003     -9.723      0.000      -0.034      -0.022\n",
       "bathrooms          0.0712      0.005     15.698      0.000       0.062       0.080\n",
       "floors             0.0506      0.005      9.555      0.000       0.040       0.061\n",
       "basement           0.0052      0.005      1.040      0.298      -0.005       0.015\n",
       "waterfront         0.3933      0.024     16.370      0.000       0.346       0.440\n",
       "view               0.0707      0.003     24.114      0.000       0.065       0.076\n",
       "condition          0.0547      0.003     16.806      0.000       0.048       0.061\n",
       "grade              0.1853      0.003     65.781      0.000       0.180       0.191\n",
       "yr_built          -0.0038   9.61e-05    -39.270      0.000      -0.004      -0.004\n",
       "lat                1.3414      0.015     89.711      0.000       1.312       1.371\n",
       "long               0.0519      0.017      3.037      0.002       0.018       0.085\n",
       "ln_sqft_living     0.4123      0.010     39.852      0.000       0.392       0.433\n",
       "ln_sqft_lot       -0.0049      0.003     -1.736      0.083      -0.010       0.001\n",
       "==============================================================================\n",
       "Omnibus:                      445.117   Durbin-Watson:                   2.001\n",
       "Prob(Omnibus):                  0.000   Jarque-Bera (JB):              903.190\n",
       "Skew:                           0.164   Prob(JB):                    7.50e-197\n",
       "Kurtosis:                       4.071   Cond. No.                     2.34e+06\n",
       "==============================================================================\n",
       "\n",
       "Warnings:\n",
       "[1] Standard Errors assume that the covariance matrix of the errors is correctly specified.\n",
       "[2] The condition number is large, 2.34e+06. This might indicate that there are\n",
       "strong multicollinearity or other numerical problems.\n",
       "\"\"\""
      ]
     },
     "execution_count": 27,
     "metadata": {},
     "output_type": "execute_result"
    }
   ],
   "source": [
    "cols_int = ['bedrooms','bathrooms','floors','basement',\n",
    "            'waterfront','view',\n",
    "            'condition','grade',\n",
    "            'yr_built',\n",
    "            'lat', 'long',  \n",
    "            'ln_sqft_living',\n",
    "            'ln_sqft_lot']#,\n",
    "            #'ln_sqft_basement']\n",
    "#cols_int = cols_int + zp_dummies\n",
    "\n",
    "m01_fmla = 'ln_price~' + '+'.join(cols_int)\n",
    "m01_ols = ols(m01_fmla,data=house_train).fit()\n",
    "m01_ols.summary()"
   ]
  },
  {
   "cell_type": "code",
   "execution_count": 28,
   "metadata": {},
   "outputs": [
    {
     "data": {
      "text/html": [
       "<table class=\"simpletable\">\n",
       "<caption>OLS Regression Results</caption>\n",
       "<tr>\n",
       "  <th>Dep. Variable:</th>        <td>ln_price</td>     <th>  R-squared:         </th> <td>   0.880</td>\n",
       "</tr>\n",
       "<tr>\n",
       "  <th>Model:</th>                   <td>OLS</td>       <th>  Adj. R-squared:    </th> <td>   0.880</td>\n",
       "</tr>\n",
       "<tr>\n",
       "  <th>Method:</th>             <td>Least Squares</td>  <th>  F-statistic:       </th> <td>   1542.</td>\n",
       "</tr>\n",
       "<tr>\n",
       "  <th>Date:</th>             <td>Sun, 26 Jul 2020</td> <th>  Prob (F-statistic):</th>  <td>  0.00</td> \n",
       "</tr>\n",
       "<tr>\n",
       "  <th>Time:</th>                 <td>18:16:00</td>     <th>  Log-Likelihood:    </th> <td>  4891.0</td>\n",
       "</tr>\n",
       "<tr>\n",
       "  <th>No. Observations:</th>      <td> 17290</td>      <th>  AIC:               </th> <td>  -9616.</td>\n",
       "</tr>\n",
       "<tr>\n",
       "  <th>Df Residuals:</th>          <td> 17207</td>      <th>  BIC:               </th> <td>  -8972.</td>\n",
       "</tr>\n",
       "<tr>\n",
       "  <th>Df Model:</th>              <td>    82</td>      <th>                     </th>     <td> </td>   \n",
       "</tr>\n",
       "<tr>\n",
       "  <th>Covariance Type:</th>      <td>nonrobust</td>    <th>                     </th>     <td> </td>   \n",
       "</tr>\n",
       "</table>\n",
       "<table class=\"simpletable\">\n",
       "<tr>\n",
       "         <td></td>           <th>coef</th>     <th>std err</th>      <th>t</th>      <th>P>|t|</th>  <th>[0.025</th>    <th>0.975]</th>  \n",
       "</tr>\n",
       "<tr>\n",
       "  <th>Intercept</th>      <td>  -74.7519</td> <td>    7.767</td> <td>   -9.624</td> <td> 0.000</td> <td>  -89.976</td> <td>  -59.527</td>\n",
       "</tr>\n",
       "<tr>\n",
       "  <th>bedrooms</th>       <td>   -0.0177</td> <td>    0.002</td> <td>   -8.441</td> <td> 0.000</td> <td>   -0.022</td> <td>   -0.014</td>\n",
       "</tr>\n",
       "<tr>\n",
       "  <th>bathrooms</th>      <td>    0.0462</td> <td>    0.003</td> <td>   14.163</td> <td> 0.000</td> <td>    0.040</td> <td>    0.053</td>\n",
       "</tr>\n",
       "<tr>\n",
       "  <th>floors</th>         <td>   -0.0035</td> <td>    0.004</td> <td>   -0.859</td> <td> 0.390</td> <td>   -0.011</td> <td>    0.004</td>\n",
       "</tr>\n",
       "<tr>\n",
       "  <th>basement</th>       <td>   -0.0461</td> <td>    0.004</td> <td>  -12.375</td> <td> 0.000</td> <td>   -0.053</td> <td>   -0.039</td>\n",
       "</tr>\n",
       "<tr>\n",
       "  <th>waterfront</th>     <td>    0.4726</td> <td>    0.017</td> <td>   27.096</td> <td> 0.000</td> <td>    0.438</td> <td>    0.507</td>\n",
       "</tr>\n",
       "<tr>\n",
       "  <th>view</th>           <td>    0.0653</td> <td>    0.002</td> <td>   30.281</td> <td> 0.000</td> <td>    0.061</td> <td>    0.070</td>\n",
       "</tr>\n",
       "<tr>\n",
       "  <th>condition</th>      <td>    0.0436</td> <td>    0.002</td> <td>   18.252</td> <td> 0.000</td> <td>    0.039</td> <td>    0.048</td>\n",
       "</tr>\n",
       "<tr>\n",
       "  <th>grade</th>          <td>    0.1084</td> <td>    0.002</td> <td>   50.100</td> <td> 0.000</td> <td>    0.104</td> <td>    0.113</td>\n",
       "</tr>\n",
       "<tr>\n",
       "  <th>yr_built</th>       <td>   -0.0005</td> <td> 7.97e-05</td> <td>   -6.451</td> <td> 0.000</td> <td>   -0.001</td> <td>   -0.000</td>\n",
       "</tr>\n",
       "<tr>\n",
       "  <th>lat</th>            <td>    0.5574</td> <td>    0.080</td> <td>    6.943</td> <td> 0.000</td> <td>    0.400</td> <td>    0.715</td>\n",
       "</tr>\n",
       "<tr>\n",
       "  <th>long</th>           <td>   -0.4655</td> <td>    0.057</td> <td>   -8.107</td> <td> 0.000</td> <td>   -0.578</td> <td>   -0.353</td>\n",
       "</tr>\n",
       "<tr>\n",
       "  <th>ln_sqft_living</th> <td>    0.4540</td> <td>    0.008</td> <td>   60.151</td> <td> 0.000</td> <td>    0.439</td> <td>    0.469</td>\n",
       "</tr>\n",
       "<tr>\n",
       "  <th>ln_sqft_lot</th>    <td>    0.0664</td> <td>    0.002</td> <td>   28.404</td> <td> 0.000</td> <td>    0.062</td> <td>    0.071</td>\n",
       "</tr>\n",
       "<tr>\n",
       "  <th>zip_98002</th>      <td>    0.0129</td> <td>    0.019</td> <td>    0.696</td> <td> 0.487</td> <td>   -0.023</td> <td>    0.049</td>\n",
       "</tr>\n",
       "<tr>\n",
       "  <th>zip_98003</th>      <td>   -0.0186</td> <td>    0.017</td> <td>   -1.129</td> <td> 0.259</td> <td>   -0.051</td> <td>    0.014</td>\n",
       "</tr>\n",
       "<tr>\n",
       "  <th>zip_98004</th>      <td>    1.0099</td> <td>    0.030</td> <td>   33.756</td> <td> 0.000</td> <td>    0.951</td> <td>    1.069</td>\n",
       "</tr>\n",
       "<tr>\n",
       "  <th>zip_98005</th>      <td>    0.6123</td> <td>    0.032</td> <td>   19.351</td> <td> 0.000</td> <td>    0.550</td> <td>    0.674</td>\n",
       "</tr>\n",
       "<tr>\n",
       "  <th>zip_98006</th>      <td>    0.5813</td> <td>    0.026</td> <td>   22.312</td> <td> 0.000</td> <td>    0.530</td> <td>    0.632</td>\n",
       "</tr>\n",
       "<tr>\n",
       "  <th>zip_98007</th>      <td>    0.5471</td> <td>    0.033</td> <td>   16.817</td> <td> 0.000</td> <td>    0.483</td> <td>    0.611</td>\n",
       "</tr>\n",
       "<tr>\n",
       "  <th>zip_98008</th>      <td>    0.5639</td> <td>    0.031</td> <td>   18.105</td> <td> 0.000</td> <td>    0.503</td> <td>    0.625</td>\n",
       "</tr>\n",
       "<tr>\n",
       "  <th>zip_98010</th>      <td>    0.3368</td> <td>    0.029</td> <td>   11.816</td> <td> 0.000</td> <td>    0.281</td> <td>    0.393</td>\n",
       "</tr>\n",
       "<tr>\n",
       "  <th>zip_98011</th>      <td>    0.2485</td> <td>    0.040</td> <td>    6.139</td> <td> 0.000</td> <td>    0.169</td> <td>    0.328</td>\n",
       "</tr>\n",
       "<tr>\n",
       "  <th>zip_98014</th>      <td>    0.2724</td> <td>    0.044</td> <td>    6.131</td> <td> 0.000</td> <td>    0.185</td> <td>    0.360</td>\n",
       "</tr>\n",
       "<tr>\n",
       "  <th>zip_98019</th>      <td>    0.2345</td> <td>    0.044</td> <td>    5.346</td> <td> 0.000</td> <td>    0.149</td> <td>    0.320</td>\n",
       "</tr>\n",
       "<tr>\n",
       "  <th>zip_98022</th>      <td>    0.2094</td> <td>    0.024</td> <td>    8.627</td> <td> 0.000</td> <td>    0.162</td> <td>    0.257</td>\n",
       "</tr>\n",
       "<tr>\n",
       "  <th>zip_98023</th>      <td>   -0.0635</td> <td>    0.015</td> <td>   -4.203</td> <td> 0.000</td> <td>   -0.093</td> <td>   -0.034</td>\n",
       "</tr>\n",
       "<tr>\n",
       "  <th>zip_98024</th>      <td>    0.4582</td> <td>    0.039</td> <td>   11.745</td> <td> 0.000</td> <td>    0.382</td> <td>    0.535</td>\n",
       "</tr>\n",
       "<tr>\n",
       "  <th>zip_98027</th>      <td>    0.5126</td> <td>    0.027</td> <td>   19.176</td> <td> 0.000</td> <td>    0.460</td> <td>    0.565</td>\n",
       "</tr>\n",
       "<tr>\n",
       "  <th>zip_98028</th>      <td>    0.1904</td> <td>    0.039</td> <td>    4.820</td> <td> 0.000</td> <td>    0.113</td> <td>    0.268</td>\n",
       "</tr>\n",
       "<tr>\n",
       "  <th>zip_98029</th>      <td>    0.5981</td> <td>    0.031</td> <td>   19.554</td> <td> 0.000</td> <td>    0.538</td> <td>    0.658</td>\n",
       "</tr>\n",
       "<tr>\n",
       "  <th>zip_98030</th>      <td>    0.0541</td> <td>    0.018</td> <td>    2.975</td> <td> 0.003</td> <td>    0.018</td> <td>    0.090</td>\n",
       "</tr>\n",
       "<tr>\n",
       "  <th>zip_98031</th>      <td>    0.0594</td> <td>    0.019</td> <td>    3.141</td> <td> 0.002</td> <td>    0.022</td> <td>    0.097</td>\n",
       "</tr>\n",
       "<tr>\n",
       "  <th>zip_98032</th>      <td>   -0.0507</td> <td>    0.022</td> <td>   -2.340</td> <td> 0.019</td> <td>   -0.093</td> <td>   -0.008</td>\n",
       "</tr>\n",
       "<tr>\n",
       "  <th>zip_98033</th>      <td>    0.6214</td> <td>    0.034</td> <td>   18.380</td> <td> 0.000</td> <td>    0.555</td> <td>    0.688</td>\n",
       "</tr>\n",
       "<tr>\n",
       "  <th>zip_98034</th>      <td>    0.3459</td> <td>    0.036</td> <td>    9.549</td> <td> 0.000</td> <td>    0.275</td> <td>    0.417</td>\n",
       "</tr>\n",
       "<tr>\n",
       "  <th>zip_98038</th>      <td>    0.2534</td> <td>    0.020</td> <td>   12.451</td> <td> 0.000</td> <td>    0.214</td> <td>    0.293</td>\n",
       "</tr>\n",
       "<tr>\n",
       "  <th>zip_98039</th>      <td>    1.1653</td> <td>    0.040</td> <td>   29.278</td> <td> 0.000</td> <td>    1.087</td> <td>    1.243</td>\n",
       "</tr>\n",
       "<tr>\n",
       "  <th>zip_98040</th>      <td>    0.7775</td> <td>    0.026</td> <td>   29.564</td> <td> 0.000</td> <td>    0.726</td> <td>    0.829</td>\n",
       "</tr>\n",
       "<tr>\n",
       "  <th>zip_98042</th>      <td>    0.1129</td> <td>    0.017</td> <td>    6.481</td> <td> 0.000</td> <td>    0.079</td> <td>    0.147</td>\n",
       "</tr>\n",
       "<tr>\n",
       "  <th>zip_98045</th>      <td>    0.4433</td> <td>    0.037</td> <td>   11.920</td> <td> 0.000</td> <td>    0.370</td> <td>    0.516</td>\n",
       "</tr>\n",
       "<tr>\n",
       "  <th>zip_98052</th>      <td>    0.5113</td> <td>    0.034</td> <td>   14.840</td> <td> 0.000</td> <td>    0.444</td> <td>    0.579</td>\n",
       "</tr>\n",
       "<tr>\n",
       "  <th>zip_98053</th>      <td>    0.5073</td> <td>    0.037</td> <td>   13.740</td> <td> 0.000</td> <td>    0.435</td> <td>    0.580</td>\n",
       "</tr>\n",
       "<tr>\n",
       "  <th>zip_98055</th>      <td>    0.1075</td> <td>    0.021</td> <td>    5.105</td> <td> 0.000</td> <td>    0.066</td> <td>    0.149</td>\n",
       "</tr>\n",
       "<tr>\n",
       "  <th>zip_98056</th>      <td>    0.2650</td> <td>    0.023</td> <td>   11.685</td> <td> 0.000</td> <td>    0.221</td> <td>    0.309</td>\n",
       "</tr>\n",
       "<tr>\n",
       "  <th>zip_98058</th>      <td>    0.1543</td> <td>    0.020</td> <td>    7.849</td> <td> 0.000</td> <td>    0.116</td> <td>    0.193</td>\n",
       "</tr>\n",
       "<tr>\n",
       "  <th>zip_98059</th>      <td>    0.3183</td> <td>    0.022</td> <td>   14.269</td> <td> 0.000</td> <td>    0.275</td> <td>    0.362</td>\n",
       "</tr>\n",
       "<tr>\n",
       "  <th>zip_98065</th>      <td>    0.5041</td> <td>    0.034</td> <td>   14.643</td> <td> 0.000</td> <td>    0.437</td> <td>    0.572</td>\n",
       "</tr>\n",
       "<tr>\n",
       "  <th>zip_98070</th>      <td>    0.1318</td> <td>    0.026</td> <td>    5.087</td> <td> 0.000</td> <td>    0.081</td> <td>    0.183</td>\n",
       "</tr>\n",
       "<tr>\n",
       "  <th>zip_98072</th>      <td>    0.2968</td> <td>    0.040</td> <td>    7.352</td> <td> 0.000</td> <td>    0.218</td> <td>    0.376</td>\n",
       "</tr>\n",
       "<tr>\n",
       "  <th>zip_98074</th>      <td>    0.5016</td> <td>    0.033</td> <td>   15.366</td> <td> 0.000</td> <td>    0.438</td> <td>    0.566</td>\n",
       "</tr>\n",
       "<tr>\n",
       "  <th>zip_98075</th>      <td>    0.5451</td> <td>    0.031</td> <td>   17.377</td> <td> 0.000</td> <td>    0.484</td> <td>    0.607</td>\n",
       "</tr>\n",
       "<tr>\n",
       "  <th>zip_98077</th>      <td>    0.2814</td> <td>    0.042</td> <td>    6.714</td> <td> 0.000</td> <td>    0.199</td> <td>    0.364</td>\n",
       "</tr>\n",
       "<tr>\n",
       "  <th>zip_98092</th>      <td>    0.0775</td> <td>    0.016</td> <td>    4.719</td> <td> 0.000</td> <td>    0.045</td> <td>    0.110</td>\n",
       "</tr>\n",
       "<tr>\n",
       "  <th>zip_98102</th>      <td>    0.7954</td> <td>    0.035</td> <td>   22.564</td> <td> 0.000</td> <td>    0.726</td> <td>    0.865</td>\n",
       "</tr>\n",
       "<tr>\n",
       "  <th>zip_98103</th>      <td>    0.6194</td> <td>    0.033</td> <td>   18.905</td> <td> 0.000</td> <td>    0.555</td> <td>    0.684</td>\n",
       "</tr>\n",
       "<tr>\n",
       "  <th>zip_98105</th>      <td>    0.7737</td> <td>    0.034</td> <td>   22.850</td> <td> 0.000</td> <td>    0.707</td> <td>    0.840</td>\n",
       "</tr>\n",
       "<tr>\n",
       "  <th>zip_98106</th>      <td>    0.1997</td> <td>    0.024</td> <td>    8.205</td> <td> 0.000</td> <td>    0.152</td> <td>    0.247</td>\n",
       "</tr>\n",
       "<tr>\n",
       "  <th>zip_98107</th>      <td>    0.6264</td> <td>    0.034</td> <td>   18.554</td> <td> 0.000</td> <td>    0.560</td> <td>    0.693</td>\n",
       "</tr>\n",
       "<tr>\n",
       "  <th>zip_98108</th>      <td>    0.2308</td> <td>    0.027</td> <td>    8.626</td> <td> 0.000</td> <td>    0.178</td> <td>    0.283</td>\n",
       "</tr>\n",
       "<tr>\n",
       "  <th>zip_98109</th>      <td>    0.7985</td> <td>    0.035</td> <td>   22.838</td> <td> 0.000</td> <td>    0.730</td> <td>    0.867</td>\n",
       "</tr>\n",
       "<tr>\n",
       "  <th>zip_98112</th>      <td>    0.8991</td> <td>    0.031</td> <td>   29.064</td> <td> 0.000</td> <td>    0.838</td> <td>    0.960</td>\n",
       "</tr>\n",
       "<tr>\n",
       "  <th>zip_98115</th>      <td>    0.6105</td> <td>    0.033</td> <td>   18.344</td> <td> 0.000</td> <td>    0.545</td> <td>    0.676</td>\n",
       "</tr>\n",
       "<tr>\n",
       "  <th>zip_98116</th>      <td>    0.5794</td> <td>    0.027</td> <td>   21.392</td> <td> 0.000</td> <td>    0.526</td> <td>    0.633</td>\n",
       "</tr>\n",
       "<tr>\n",
       "  <th>zip_98117</th>      <td>    0.5760</td> <td>    0.034</td> <td>   17.106</td> <td> 0.000</td> <td>    0.510</td> <td>    0.642</td>\n",
       "</tr>\n",
       "<tr>\n",
       "  <th>zip_98118</th>      <td>    0.3626</td> <td>    0.024</td> <td>   15.298</td> <td> 0.000</td> <td>    0.316</td> <td>    0.409</td>\n",
       "</tr>\n",
       "<tr>\n",
       "  <th>zip_98119</th>      <td>    0.7968</td> <td>    0.033</td> <td>   24.215</td> <td> 0.000</td> <td>    0.732</td> <td>    0.861</td>\n",
       "</tr>\n",
       "<tr>\n",
       "  <th>zip_98122</th>      <td>    0.6575</td> <td>    0.029</td> <td>   22.393</td> <td> 0.000</td> <td>    0.600</td> <td>    0.715</td>\n",
       "</tr>\n",
       "<tr>\n",
       "  <th>zip_98125</th>      <td>    0.3262</td> <td>    0.036</td> <td>    9.093</td> <td> 0.000</td> <td>    0.256</td> <td>    0.396</td>\n",
       "</tr>\n",
       "<tr>\n",
       "  <th>zip_98126</th>      <td>    0.3909</td> <td>    0.025</td> <td>   15.667</td> <td> 0.000</td> <td>    0.342</td> <td>    0.440</td>\n",
       "</tr>\n",
       "<tr>\n",
       "  <th>zip_98133</th>      <td>    0.1971</td> <td>    0.037</td> <td>    5.318</td> <td> 0.000</td> <td>    0.124</td> <td>    0.270</td>\n",
       "</tr>\n",
       "<tr>\n",
       "  <th>zip_98136</th>      <td>    0.5388</td> <td>    0.025</td> <td>   21.142</td> <td> 0.000</td> <td>    0.489</td> <td>    0.589</td>\n",
       "</tr>\n",
       "<tr>\n",
       "  <th>zip_98144</th>      <td>    0.5531</td> <td>    0.027</td> <td>   20.205</td> <td> 0.000</td> <td>    0.499</td> <td>    0.607</td>\n",
       "</tr>\n",
       "<tr>\n",
       "  <th>zip_98146</th>      <td>    0.1439</td> <td>    0.023</td> <td>    6.376</td> <td> 0.000</td> <td>    0.100</td> <td>    0.188</td>\n",
       "</tr>\n",
       "<tr>\n",
       "  <th>zip_98148</th>      <td>    0.0309</td> <td>    0.032</td> <td>    0.972</td> <td> 0.331</td> <td>   -0.031</td> <td>    0.093</td>\n",
       "</tr>\n",
       "<tr>\n",
       "  <th>zip_98155</th>      <td>    0.1693</td> <td>    0.039</td> <td>    4.392</td> <td> 0.000</td> <td>    0.094</td> <td>    0.245</td>\n",
       "</tr>\n",
       "<tr>\n",
       "  <th>zip_98166</th>      <td>    0.1886</td> <td>    0.021</td> <td>    9.083</td> <td> 0.000</td> <td>    0.148</td> <td>    0.229</td>\n",
       "</tr>\n",
       "<tr>\n",
       "  <th>zip_98168</th>      <td>   -0.0369</td> <td>    0.022</td> <td>   -1.673</td> <td> 0.094</td> <td>   -0.080</td> <td>    0.006</td>\n",
       "</tr>\n",
       "<tr>\n",
       "  <th>zip_98177</th>      <td>    0.3235</td> <td>    0.039</td> <td>    8.399</td> <td> 0.000</td> <td>    0.248</td> <td>    0.399</td>\n",
       "</tr>\n",
       "<tr>\n",
       "  <th>zip_98178</th>      <td>    0.0647</td> <td>    0.023</td> <td>    2.851</td> <td> 0.004</td> <td>    0.020</td> <td>    0.109</td>\n",
       "</tr>\n",
       "<tr>\n",
       "  <th>zip_98188</th>      <td>    0.0191</td> <td>    0.023</td> <td>    0.817</td> <td> 0.414</td> <td>   -0.027</td> <td>    0.065</td>\n",
       "</tr>\n",
       "<tr>\n",
       "  <th>zip_98198</th>      <td>    0.0080</td> <td>    0.018</td> <td>    0.451</td> <td> 0.652</td> <td>   -0.027</td> <td>    0.043</td>\n",
       "</tr>\n",
       "<tr>\n",
       "  <th>zip_98199</th>      <td>    0.6352</td> <td>    0.032</td> <td>   19.918</td> <td> 0.000</td> <td>    0.573</td> <td>    0.698</td>\n",
       "</tr>\n",
       "</table>\n",
       "<table class=\"simpletable\">\n",
       "<tr>\n",
       "  <th>Omnibus:</th>       <td>1173.213</td> <th>  Durbin-Watson:     </th> <td>   2.005</td>\n",
       "</tr>\n",
       "<tr>\n",
       "  <th>Prob(Omnibus):</th>  <td> 0.000</td>  <th>  Jarque-Bera (JB):  </th> <td>4877.887</td>\n",
       "</tr>\n",
       "<tr>\n",
       "  <th>Skew:</th>           <td>-0.211</td>  <th>  Prob(JB):          </th> <td>    0.00</td>\n",
       "</tr>\n",
       "<tr>\n",
       "  <th>Kurtosis:</th>       <td> 5.568</td>  <th>  Cond. No.          </th> <td>1.10e+07</td>\n",
       "</tr>\n",
       "</table>"
      ],
      "text/plain": [
       "<class 'statsmodels.iolib.summary.Summary'>\n",
       "\"\"\"\n",
       "                            OLS Regression Results                            \n",
       "==============================================================================\n",
       "Dep. Variable:               ln_price   R-squared:                       0.880\n",
       "Model:                            OLS   Adj. R-squared:                  0.880\n",
       "Method:                 Least Squares   F-statistic:                     1542.\n",
       "Date:                Sun, 26 Jul 2020   Prob (F-statistic):               0.00\n",
       "Time:                        18:16:00   Log-Likelihood:                 4891.0\n",
       "No. Observations:               17290   AIC:                            -9616.\n",
       "Df Residuals:                   17207   BIC:                            -8972.\n",
       "Df Model:                          82                                         \n",
       "Covariance Type:            nonrobust                                         \n",
       "==================================================================================\n",
       "                     coef    std err          t      P>|t|      [0.025      0.975]\n",
       "----------------------------------------------------------------------------------\n",
       "Intercept        -74.7519      7.767     -9.624      0.000     -89.976     -59.527\n",
       "bedrooms          -0.0177      0.002     -8.441      0.000      -0.022      -0.014\n",
       "bathrooms          0.0462      0.003     14.163      0.000       0.040       0.053\n",
       "floors            -0.0035      0.004     -0.859      0.390      -0.011       0.004\n",
       "basement          -0.0461      0.004    -12.375      0.000      -0.053      -0.039\n",
       "waterfront         0.4726      0.017     27.096      0.000       0.438       0.507\n",
       "view               0.0653      0.002     30.281      0.000       0.061       0.070\n",
       "condition          0.0436      0.002     18.252      0.000       0.039       0.048\n",
       "grade              0.1084      0.002     50.100      0.000       0.104       0.113\n",
       "yr_built          -0.0005   7.97e-05     -6.451      0.000      -0.001      -0.000\n",
       "lat                0.5574      0.080      6.943      0.000       0.400       0.715\n",
       "long              -0.4655      0.057     -8.107      0.000      -0.578      -0.353\n",
       "ln_sqft_living     0.4540      0.008     60.151      0.000       0.439       0.469\n",
       "ln_sqft_lot        0.0664      0.002     28.404      0.000       0.062       0.071\n",
       "zip_98002          0.0129      0.019      0.696      0.487      -0.023       0.049\n",
       "zip_98003         -0.0186      0.017     -1.129      0.259      -0.051       0.014\n",
       "zip_98004          1.0099      0.030     33.756      0.000       0.951       1.069\n",
       "zip_98005          0.6123      0.032     19.351      0.000       0.550       0.674\n",
       "zip_98006          0.5813      0.026     22.312      0.000       0.530       0.632\n",
       "zip_98007          0.5471      0.033     16.817      0.000       0.483       0.611\n",
       "zip_98008          0.5639      0.031     18.105      0.000       0.503       0.625\n",
       "zip_98010          0.3368      0.029     11.816      0.000       0.281       0.393\n",
       "zip_98011          0.2485      0.040      6.139      0.000       0.169       0.328\n",
       "zip_98014          0.2724      0.044      6.131      0.000       0.185       0.360\n",
       "zip_98019          0.2345      0.044      5.346      0.000       0.149       0.320\n",
       "zip_98022          0.2094      0.024      8.627      0.000       0.162       0.257\n",
       "zip_98023         -0.0635      0.015     -4.203      0.000      -0.093      -0.034\n",
       "zip_98024          0.4582      0.039     11.745      0.000       0.382       0.535\n",
       "zip_98027          0.5126      0.027     19.176      0.000       0.460       0.565\n",
       "zip_98028          0.1904      0.039      4.820      0.000       0.113       0.268\n",
       "zip_98029          0.5981      0.031     19.554      0.000       0.538       0.658\n",
       "zip_98030          0.0541      0.018      2.975      0.003       0.018       0.090\n",
       "zip_98031          0.0594      0.019      3.141      0.002       0.022       0.097\n",
       "zip_98032         -0.0507      0.022     -2.340      0.019      -0.093      -0.008\n",
       "zip_98033          0.6214      0.034     18.380      0.000       0.555       0.688\n",
       "zip_98034          0.3459      0.036      9.549      0.000       0.275       0.417\n",
       "zip_98038          0.2534      0.020     12.451      0.000       0.214       0.293\n",
       "zip_98039          1.1653      0.040     29.278      0.000       1.087       1.243\n",
       "zip_98040          0.7775      0.026     29.564      0.000       0.726       0.829\n",
       "zip_98042          0.1129      0.017      6.481      0.000       0.079       0.147\n",
       "zip_98045          0.4433      0.037     11.920      0.000       0.370       0.516\n",
       "zip_98052          0.5113      0.034     14.840      0.000       0.444       0.579\n",
       "zip_98053          0.5073      0.037     13.740      0.000       0.435       0.580\n",
       "zip_98055          0.1075      0.021      5.105      0.000       0.066       0.149\n",
       "zip_98056          0.2650      0.023     11.685      0.000       0.221       0.309\n",
       "zip_98058          0.1543      0.020      7.849      0.000       0.116       0.193\n",
       "zip_98059          0.3183      0.022     14.269      0.000       0.275       0.362\n",
       "zip_98065          0.5041      0.034     14.643      0.000       0.437       0.572\n",
       "zip_98070          0.1318      0.026      5.087      0.000       0.081       0.183\n",
       "zip_98072          0.2968      0.040      7.352      0.000       0.218       0.376\n",
       "zip_98074          0.5016      0.033     15.366      0.000       0.438       0.566\n",
       "zip_98075          0.5451      0.031     17.377      0.000       0.484       0.607\n",
       "zip_98077          0.2814      0.042      6.714      0.000       0.199       0.364\n",
       "zip_98092          0.0775      0.016      4.719      0.000       0.045       0.110\n",
       "zip_98102          0.7954      0.035     22.564      0.000       0.726       0.865\n",
       "zip_98103          0.6194      0.033     18.905      0.000       0.555       0.684\n",
       "zip_98105          0.7737      0.034     22.850      0.000       0.707       0.840\n",
       "zip_98106          0.1997      0.024      8.205      0.000       0.152       0.247\n",
       "zip_98107          0.6264      0.034     18.554      0.000       0.560       0.693\n",
       "zip_98108          0.2308      0.027      8.626      0.000       0.178       0.283\n",
       "zip_98109          0.7985      0.035     22.838      0.000       0.730       0.867\n",
       "zip_98112          0.8991      0.031     29.064      0.000       0.838       0.960\n",
       "zip_98115          0.6105      0.033     18.344      0.000       0.545       0.676\n",
       "zip_98116          0.5794      0.027     21.392      0.000       0.526       0.633\n",
       "zip_98117          0.5760      0.034     17.106      0.000       0.510       0.642\n",
       "zip_98118          0.3626      0.024     15.298      0.000       0.316       0.409\n",
       "zip_98119          0.7968      0.033     24.215      0.000       0.732       0.861\n",
       "zip_98122          0.6575      0.029     22.393      0.000       0.600       0.715\n",
       "zip_98125          0.3262      0.036      9.093      0.000       0.256       0.396\n",
       "zip_98126          0.3909      0.025     15.667      0.000       0.342       0.440\n",
       "zip_98133          0.1971      0.037      5.318      0.000       0.124       0.270\n",
       "zip_98136          0.5388      0.025     21.142      0.000       0.489       0.589\n",
       "zip_98144          0.5531      0.027     20.205      0.000       0.499       0.607\n",
       "zip_98146          0.1439      0.023      6.376      0.000       0.100       0.188\n",
       "zip_98148          0.0309      0.032      0.972      0.331      -0.031       0.093\n",
       "zip_98155          0.1693      0.039      4.392      0.000       0.094       0.245\n",
       "zip_98166          0.1886      0.021      9.083      0.000       0.148       0.229\n",
       "zip_98168         -0.0369      0.022     -1.673      0.094      -0.080       0.006\n",
       "zip_98177          0.3235      0.039      8.399      0.000       0.248       0.399\n",
       "zip_98178          0.0647      0.023      2.851      0.004       0.020       0.109\n",
       "zip_98188          0.0191      0.023      0.817      0.414      -0.027       0.065\n",
       "zip_98198          0.0080      0.018      0.451      0.652      -0.027       0.043\n",
       "zip_98199          0.6352      0.032     19.918      0.000       0.573       0.698\n",
       "==============================================================================\n",
       "Omnibus:                     1173.213   Durbin-Watson:                   2.005\n",
       "Prob(Omnibus):                  0.000   Jarque-Bera (JB):             4877.887\n",
       "Skew:                          -0.211   Prob(JB):                         0.00\n",
       "Kurtosis:                       5.568   Cond. No.                     1.10e+07\n",
       "==============================================================================\n",
       "\n",
       "Warnings:\n",
       "[1] Standard Errors assume that the covariance matrix of the errors is correctly specified.\n",
       "[2] The condition number is large, 1.1e+07. This might indicate that there are\n",
       "strong multicollinearity or other numerical problems.\n",
       "\"\"\""
      ]
     },
     "execution_count": 28,
     "metadata": {},
     "output_type": "execute_result"
    }
   ],
   "source": [
    "cols_int = ['bedrooms','bathrooms','floors','basement',\n",
    "            'waterfront','view',\n",
    "            'condition','grade',\n",
    "            'yr_built',\n",
    "            'lat', 'long',  \n",
    "            'ln_sqft_living',\n",
    "            'ln_sqft_lot']#,\n",
    "            #'ln_sqft_basement']\n",
    "cols_int = cols_int + zp_dummies\n",
    "\n",
    "m03_fmla = 'ln_price~' + '+'.join(cols_int)\n",
    "m03_ols = ols(m03_fmla,data=house_train).fit()\n",
    "m03_ols.summary()"
   ]
  },
  {
   "cell_type": "code",
   "execution_count": 29,
   "metadata": {},
   "outputs": [
    {
     "name": "stdout",
     "output_type": "stream",
     "text": [
      "R^2 m01:  0.7643\n",
      "R^2 m03:  0.8802\n"
     ]
    }
   ],
   "source": [
    "# adding zipcodes helps\n",
    "m01_r2 = m01_ols.rsquared\n",
    "m03_r2 = m03_ols.rsquared\n",
    "\n",
    "print('R^2 m01:  ' +str(round(m01_r2,4)))\n",
    "print('R^2 m03:  ' +str(round(m03_r2,4)))"
   ]
  },
  {
   "cell_type": "markdown",
   "metadata": {},
   "source": [
    "###  save model as `X3` and `yy`"
   ]
  },
  {
   "cell_type": "code",
   "execution_count": 30,
   "metadata": {},
   "outputs": [],
   "source": [
    "##  save model as \"X3\" and \"yy\"\n",
    "X3 = house_train[cols_int]\n",
    "yy = house_train['ln_price']"
   ]
  },
  {
   "cell_type": "markdown",
   "metadata": {},
   "source": [
    "## Step 5: Train Test Split\n",
    "\n",
    "If you plan on doing any sclaing of your data, make sure it is doen at the apporpriate time. "
   ]
  },
  {
   "cell_type": "markdown",
   "metadata": {},
   "source": [
    "Since we will be re-running this process again, I'll write it as a function.  "
   ]
  },
  {
   "cell_type": "code",
   "execution_count": 31,
   "metadata": {},
   "outputs": [],
   "source": [
    "def lin_avg_crossval(X, y):\n",
    "    regression = LinearRegression()\n",
    "    crossvalidation = KFold(n_splits=3, shuffle=True, random_state=1)\n",
    "    \n",
    "    return np.mean(cross_val_score(regression, X, y, scoring='r2', cv=crossvalidation))\n",
    "\n",
    "def lin_fit(X, y):\n",
    "    lm = LinearRegression(normalize = True)\n",
    "    lm = lm.fit(X, y)\n",
    "\n",
    "    print(f\"R2: {lm.score(X, y)}\")\n",
    "    print(f\"Adj_R2: {1 - (1-lm.score(X, y))*(len(y)-1)/(len(y)-X.shape[1]-1)}\")\n",
    "\n",
    "    return lm"
   ]
  },
  {
   "cell_type": "markdown",
   "metadata": {},
   "source": [
    "### 5.1) Perform a train test split of the data."
   ]
  },
  {
   "cell_type": "code",
   "execution_count": 32,
   "metadata": {},
   "outputs": [],
   "source": [
    "# function to split the data \n",
    "def split_df (X, y, test_size = 0.25, random_state = 42):\n",
    "    \"\"\"\n",
    "    input: df and name of outcome column\n",
    "    return: train, test for x and y\n",
    "    \"\"\"\n",
    "    return train_test_split(X, y, test_size=test_size, random_state=random_state)"
   ]
  },
  {
   "cell_type": "markdown",
   "metadata": {},
   "source": [
    "### 5.4) Fit the model to the training data."
   ]
  },
  {
   "cell_type": "code",
   "execution_count": 33,
   "metadata": {},
   "outputs": [],
   "source": [
    "def test_train_split(X, y, test_size = 0.25, random_state = 42):\n",
    "    \"\"\"\n",
    "    split the data and fit model\n",
    "    return y_train, y_test, y_pred_train, y_pred_test, print prediction errors\n",
    "    \"\"\"\n",
    "    X_train, X_test, y_train, y_test = split_df(X, y, test_size, random_state)\n",
    "    linreg = LinearRegression()\n",
    "\n",
    "    linreg.fit(X_train, y_train)\n",
    "    \n",
    "    exp_y_train = np.exp(y_train)\n",
    "    exp_y_test = np.exp(y_test)\n",
    "    exp_y_pred_train = np.exp(linreg.predict(X_train))\n",
    "    exp_y_pred_test = np.exp(linreg.predict(X_test))\n",
    "    \n",
    "    train_mse = mean_squared_error(exp_y_train, exp_y_pred_train)\n",
    "    test_mse = mean_squared_error(exp_y_test, exp_y_pred_test)\n",
    "    \n",
    "    print('Train RMSE:', np.sqrt(train_mse))\n",
    "    print('Test RMSE:', np.sqrt(test_mse))\n",
    "\n",
    "    return X_train, X_test, exp_y_train, exp_y_test, exp_y_pred_train, exp_y_pred_test"
   ]
  },
  {
   "cell_type": "code",
   "execution_count": 34,
   "metadata": {},
   "outputs": [
    {
     "name": "stdout",
     "output_type": "stream",
     "text": [
      "Train RMSE: 129828.38355124311\n",
      "Test RMSE: 135956.87688252793\n"
     ]
    }
   ],
   "source": [
    "x_train, x_test, y_train, y_test, y_pred_train, y_pred_test = test_train_split(X3, yy)"
   ]
  },
  {
   "cell_type": "markdown",
   "metadata": {},
   "source": [
    "### 5.7) Determine if your model is overfit."
   ]
  },
  {
   "cell_type": "code",
   "execution_count": 35,
   "metadata": {},
   "outputs": [
    {
     "data": {
      "text/plain": [
       "Text(0.5, 0, 'RMSE')"
      ]
     },
     "execution_count": 35,
     "metadata": {},
     "output_type": "execute_result"
    },
    {
     "data": {
      "image/png": "[encoded data removed]",
      "text/plain": [
       "<Figure size 432x288 with 1 Axes>"
      ]
     },
     "metadata": {
      "needs_background": "light"
     },
     "output_type": "display_data"
    }
   ],
   "source": [
    "sns.distplot(np.sqrt((y_train-y_pred_train)**2), hist = False, label = 'train')\n",
    "sns.distplot(np.sqrt((y_test-y_pred_test)**2), hist = False, label = 'test')\n",
    "plt.xlabel(\"RMSE\")"
   ]
  },
  {
   "cell_type": "markdown",
   "metadata": {},
   "source": [
    "## Step 6: Utilize some different feature selection techniques before or in conjuction with fitting your models"
   ]
  },
  {
   "cell_type": "markdown",
   "metadata": {},
   "source": [
    "### 6.1) Utilize a filter method to identify some features to remove from the model.  "
   ]
  },
  {
   "cell_type": "markdown",
   "metadata": {},
   "source": [
    "## Step 7: Evaluate your different models in order to determine the best model overall"
   ]
  },
  {
   "cell_type": "markdown",
   "metadata": {},
   "source": [
    "## Step 8:  Refit your best model to the entire dataset"
   ]
  },
  {
   "cell_type": "markdown",
   "metadata": {},
   "source": [
    "## Step 9: Save your final model using pickle\n",
    "\n",
    "https://machinelearningmastery.com/save-load-machine-learning-models-python-scikit-learn/"
   ]
  },
  {
   "cell_type": "code",
   "execution_count": null,
   "metadata": {},
   "outputs": [],
   "source": []
  },
  {
   "cell_type": "markdown",
   "metadata": {},
   "source": [
    "##  Step X.  Compare with test data"
   ]
  },
  {
   "cell_type": "code",
   "execution_count": 36,
   "metadata": {},
   "outputs": [],
   "source": [
    "##  load test data\n",
    "house_tftr = pd.read_csv('data/kc_house_data_test_features.csv', index_col = 0)\n",
    "house_ttgt = pd.read_csv('data/kc_house_data_test_target.csv', index_col = 0)"
   ]
  },
  {
   "cell_type": "code",
   "execution_count": 37,
   "metadata": {},
   "outputs": [],
   "source": [
    "##  take logs, make dates and make zip code dummies\n",
    "house_tftr = take_logs(house_tftr)\n",
    "house_tftr = make_dates(house_tftr)\n",
    "house_tftr = make_basement(house_tftr)\n",
    "\n",
    "zp_tdf = dummies(house_tftr['zipcode'],'zip')\n",
    "house_tftr = house_tftr.join(zp_tdf)\n",
    "\n",
    "##  create test data frames\n",
    "xt = house_tftr[cols_int]\n",
    "yt = np.log(house_ttgt['price'])"
   ]
  },
  {
   "cell_type": "code",
   "execution_count": 38,
   "metadata": {},
   "outputs": [
    {
     "name": "stdout",
     "output_type": "stream",
     "text": [
      "RMSE on test data:  135450.71\n"
     ]
    }
   ],
   "source": [
    "##  make predictions\n",
    "m03_test_pred = np.exp(m03_ols.predict(exog=xt))\n",
    "true_vals = house_ttgt['price']\n",
    "\n",
    "test_rmse = np.sqrt(mean_squared_error(true_vals, m03_test_pred))\n",
    "print('RMSE on test data:  ' + str(round(test_rmse,2)))"
   ]
  },
  {
   "cell_type": "code",
   "execution_count": null,
   "metadata": {},
   "outputs": [],
   "source": []
  }
 ],
 "metadata": {
  "kernelspec": {
   "display_name": "Python 3",
   "language": "python",
   "name": "python3"
  },
  "language_info": {
   "codemirror_mode": {
    "name": "ipython",
    "version": 3
   },
   "file_extension": ".py",
   "mimetype": "text/x-python",
   "name": "python",
   "nbconvert_exporter": "python",
   "pygments_lexer": "ipython3",
   "version": "3.7.3"
  }
 },
 "nbformat": 4,
 "nbformat_minor": 2
}
